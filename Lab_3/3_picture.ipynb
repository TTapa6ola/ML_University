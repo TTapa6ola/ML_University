{
 "cells": [
  {
   "cell_type": "code",
   "execution_count": 1,
   "id": "e196fd92",
   "metadata": {},
   "outputs": [],
   "source": [
    "import cv2\n",
    "import numpy as np\n",
    "from sklearn.cluster import KMeans"
   ]
  },
  {
   "cell_type": "code",
   "execution_count": 3,
   "id": "fb187489",
   "metadata": {},
   "outputs": [],
   "source": [
    "clusters = [2**i for i in range(8)]\n",
    "file = 'img.jpg'\n",
    "\n",
    "for c in clusters:\n",
    "    img3d = cv2.imread(file)\n",
    "    h, w, ch = img3d.shape\n",
    "    img2d = img3d.reshape(h * w, ch)\n",
    "    \n",
    "    kmeans = KMeans(n_clusters=c).fit(img2d)\n",
    "    \n",
    "    labels = kmeans.labels_\n",
    "    centers = kmeans.cluster_centers_\n",
    "    for i in range(h*w):\n",
    "        img2d[i] = centers[labels[i]].astype(np.int32)\n",
    "    \n",
    "    img3d = img2d.reshape(h, w, ch)\n",
    "    #cv2.imshow(str(c) + ' clusters', img3d)\n",
    "    cv2.imwrite(f\"{c}_clusters.jpg\", img3d)"
   ]
  }
 ],
 "metadata": {
  "kernelspec": {
   "display_name": "Python 3",
   "language": "python",
   "name": "python3"
  },
  "language_info": {
   "codemirror_mode": {
    "name": "ipython",
    "version": 3
   },
   "file_extension": ".py",
   "mimetype": "text/x-python",
   "name": "python",
   "nbconvert_exporter": "python",
   "pygments_lexer": "ipython3",
   "version": "3.9.7"
  }
 },
 "nbformat": 4,
 "nbformat_minor": 5
}
