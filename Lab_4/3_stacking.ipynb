{
 "cells": [
  {
   "cell_type": "code",
   "execution_count": 2,
   "id": "06deb4c4",
   "metadata": {},
   "outputs": [],
   "source": [
    "import numpy as np\n",
    "import pandas as pd\n",
    "from sklearn.svm import SVC\n",
    "from sklearn.neighbors import KNeighborsClassifier\n",
    "from sklearn.tree import DecisionTreeClassifier\n",
    "from sklearn.ensemble import AdaBoostClassifier, StackingClassifier, RandomForestClassifier, BaggingClassifier\n",
    "from sklearn.linear_model import LogisticRegression\n",
    "from sklearn.metrics import accuracy_score\n",
    "from sklearn.model_selection import train_test_split\n",
    "import matplotlib.pyplot as plt\n",
    "%matplotlib inline"
   ]
  },
  {
   "cell_type": "code",
   "execution_count": 3,
   "id": "c8fdc12a",
   "metadata": {},
   "outputs": [],
   "source": [
    "data_train = pd.read_csv('train.csv')\n",
    "data_test = pd.read_csv('test.csv')\n",
    "\n",
    "data_train = data_train.drop(['PassengerId', 'Name', 'Ticket', 'Cabin'], axis=1)\n",
    "data_test = data_test.drop(['PassengerId', 'Name', 'Ticket', 'Cabin'], axis=1)\n",
    "\n",
    "embarked_map = {'S': 1, 'C': 2, 'Q': 3}\n",
    "sex_map = {'male': -1, 'female': 1}\n",
    "\n",
    "data_train['Embarked'] = data_train['Embarked'].map(embarked_map)\n",
    "data_test['Embarked'] = data_test['Embarked'].map(embarked_map)\n",
    "\n",
    "data_train['Sex'] = data_train['Sex'].map(sex_map)\n",
    "data_test['Sex'] = data_test['Sex'].map(sex_map)\n",
    "\n",
    "data_train['Age'] = pd.to_numeric(data_train['Age'], errors='coerce')\n",
    "data_test['Age'] = pd.to_numeric(data_test['Age'], errors='coerce')\n",
    "\n",
    "data_train['Age'] = data_train['Age'].fillna(data_train['Age'].mean())\n",
    "data_test['Age'] = data_test['Age'].fillna(data_test['Age'].mean())\n",
    "\n",
    "data_train['Embarked'] = data_train['Embarked'].fillna(1)\n",
    "data_test['Fare'] = data_test['Fare'].fillna(data_test['Fare'].mean())"
   ]
  },
  {
   "cell_type": "code",
   "execution_count": 4,
   "id": "9d0a1f72",
   "metadata": {},
   "outputs": [],
   "source": [
    "X_train, y_train = data_train.drop('Survived', axis=1), data_train.Survived\n",
    "X_test, y_test = data_test, pd.read_csv('gender_submission.csv').Survived"
   ]
  },
  {
   "cell_type": "code",
   "execution_count": 26,
   "id": "3ae8a98a",
   "metadata": {},
   "outputs": [],
   "source": [
    "estimators = [\n",
    "    ('RandomForest', RandomForestClassifier()),\n",
    "    ('AdaBoost', AdaBoostClassifier()),\n",
    "    ('BaggingDecisionTree', BaggingClassifier(base_estimator=DecisionTreeClassifier(), n_estimators=100)),\n",
    "    ('BaggingSVC', BaggingClassifier(base_estimator=SVC(C=5), n_estimators=100)),\n",
    "    ('BaggingKNN', BaggingClassifier(base_estimator=KNeighborsClassifier(), n_estimators=100)),\n",
    "]"
   ]
  },
  {
   "cell_type": "code",
   "execution_count": 27,
   "id": "cf034c4b",
   "metadata": {},
   "outputs": [
    {
     "data": {
      "text/plain": [
       "StackingClassifier(estimators=[('RandomForest', RandomForestClassifier()),\n",
       "                               ('AdaBoost', AdaBoostClassifier()),\n",
       "                               ('BaggingDecisionTree',\n",
       "                                BaggingClassifier(base_estimator=DecisionTreeClassifier(),\n",
       "                                                  n_estimators=100)),\n",
       "                               ('BaggingSVC',\n",
       "                                BaggingClassifier(base_estimator=SVC(C=5),\n",
       "                                                  n_estimators=100)),\n",
       "                               ('BaggingKNN',\n",
       "                                BaggingClassifier(base_estimator=KNeighborsClassifier(),\n",
       "                                                  n_estimators=100))],\n",
       "                   final_estimator=LogisticRegression())"
      ]
     },
     "execution_count": 27,
     "metadata": {},
     "output_type": "execute_result"
    }
   ],
   "source": [
    "clf = StackingClassifier(estimators=estimators, final_estimator=LogisticRegression())\n",
    "\n",
    "clf.fit(X_train, y_train)"
   ]
  },
  {
   "cell_type": "code",
   "execution_count": 28,
   "id": "dad834e1",
   "metadata": {},
   "outputs": [
    {
     "name": "stdout",
     "output_type": "stream",
     "text": [
      "Accuracy train:  0.9809203142536476\n",
      "Accuracy test:  0.8133971291866029\n"
     ]
    }
   ],
   "source": [
    "y_pred_train = clf.predict(X_train)\n",
    "y_pred_test = clf.predict(X_test)\n",
    "\n",
    "train_acc = accuracy_score(y_train, y_pred_train)\n",
    "test_acc = accuracy_score(y_test, y_pred_test)\n",
    "\n",
    "print(\"Accuracy train: \", train_acc)\n",
    "print(\"Accuracy test: \", test_acc)"
   ]
  }
 ],
 "metadata": {
  "kernelspec": {
   "display_name": "Python 3",
   "language": "python",
   "name": "python3"
  },
  "language_info": {
   "codemirror_mode": {
    "name": "ipython",
    "version": 3
   },
   "file_extension": ".py",
   "mimetype": "text/x-python",
   "name": "python",
   "nbconvert_exporter": "python",
   "pygments_lexer": "ipython3",
   "version": "3.9.7"
  }
 },
 "nbformat": 4,
 "nbformat_minor": 5
}
