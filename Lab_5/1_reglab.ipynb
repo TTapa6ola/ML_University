{
 "cells": [
  {
   "cell_type": "code",
   "execution_count": 1,
   "id": "8f9af1d4",
   "metadata": {},
   "outputs": [],
   "source": [
    "import numpy as np\n",
    "import pandas as pd\n",
    "from sklearn.linear_model import LinearRegression\n",
    "from sklearn.model_selection import train_test_split\n",
    "import matplotlib.pyplot as plt\n",
    "%matplotlib inline"
   ]
  },
  {
   "cell_type": "code",
   "execution_count": 2,
   "id": "b8366806",
   "metadata": {},
   "outputs": [],
   "source": [
    "data = pd.read_table('reglab1.txt')\n",
    "variants = [\n",
    "    (['x'], ['y', 'z']),\n",
    "    (['y'], ['x', 'z']),\n",
    "    (['z'], ['y', 'x'])\n",
    "]"
   ]
  },
  {
   "cell_type": "code",
   "execution_count": 3,
   "id": "70eefcae",
   "metadata": {},
   "outputs": [],
   "source": [
    "score = []\n",
    "\n",
    "for pred, rel in variants:\n",
    "    train_X, test_X, train_y, test_y = train_test_split(data[rel], data[pred], train_size=0.8)\n",
    "    \n",
    "    reg = LinearRegression().fit(train_X, train_y)\n",
    "    score.append((pred[0], reg.score(test_X, test_y)))"
   ]
  },
  {
   "cell_type": "code",
   "execution_count": 6,
   "id": "4d80f7d5",
   "metadata": {},
   "outputs": [
    {
     "data": {
      "text/plain": [
       "[('x', 0.922682223722205),\n",
       " ('y', 0.9393710177397852),\n",
       " ('z', 0.9727096270687096)]"
      ]
     },
     "execution_count": 6,
     "metadata": {},
     "output_type": "execute_result"
    }
   ],
   "source": [
    "score"
   ]
  }
 ],
 "metadata": {
  "kernelspec": {
   "display_name": "Python 3",
   "language": "python",
   "name": "python3"
  },
  "language_info": {
   "codemirror_mode": {
    "name": "ipython",
    "version": 3
   },
   "file_extension": ".py",
   "mimetype": "text/x-python",
   "name": "python",
   "nbconvert_exporter": "python",
   "pygments_lexer": "ipython3",
   "version": "3.9.7"
  }
 },
 "nbformat": 4,
 "nbformat_minor": 5
}
