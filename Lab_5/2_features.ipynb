{
 "cells": [
  {
   "cell_type": "code",
   "execution_count": 1,
   "id": "c20c01ca",
   "metadata": {},
   "outputs": [],
   "source": [
    "import numpy as np\n",
    "import pandas as pd\n",
    "from sklearn.linear_model import LinearRegression\n",
    "from sklearn.metrics import mean_squared_error\n",
    "from sklearn.model_selection import train_test_split\n",
    "import matplotlib.pyplot as plt\n",
    "%matplotlib inline"
   ]
  },
  {
   "cell_type": "code",
   "execution_count": 4,
   "id": "98ebe082",
   "metadata": {},
   "outputs": [],
   "source": [
    "data = pd.read_table('reglab.txt')\n",
    "variants = [\n",
    "    ['x1', 'x2', 'x3', 'x4'],\n",
    "    ['x1', 'x2', 'x3'],\n",
    "    ['x1', 'x2', 'x4'],\n",
    "    ['x1', 'x3', 'x4'],\n",
    "    ['x2', 'x3', 'x4'],\n",
    "    ['x1', 'x2'],\n",
    "    ['x1', 'x3'],\n",
    "    ['x2', 'x3'],\n",
    "    ['x1', 'x4'],\n",
    "    ['x2', 'x4'],\n",
    "    ['x3', 'x4'],\n",
    "    ['x1'],\n",
    "    ['x2'],\n",
    "    ['x3'],\n",
    "    ['x4'],\n",
    "]"
   ]
  },
  {
   "cell_type": "code",
   "execution_count": 12,
   "id": "2918e13b",
   "metadata": {},
   "outputs": [],
   "source": [
    "rss_score = []\n",
    "\n",
    "\n",
    "for var in variants:\n",
    "    train_X, test_X, train_y, test_y = train_test_split(data[var], data['y'], train_size=0.8)\n",
    "    \n",
    "    reg = LinearRegression().fit(train_X, train_y)\n",
    "    pred_y = reg.predict(test_X)\n",
    "    rss_score.append((var, mean_squared_error(test_y, pred_y), reg.score(test_X, test_y)))"
   ]
  },
  {
   "cell_type": "code",
   "execution_count": 17,
   "id": "372b975a",
   "metadata": {},
   "outputs": [
    {
     "name": "stdout",
     "output_type": "stream",
     "text": [
      "x1 x2 x3 x4\n",
      "Residiual sum of squares 0.0008812820680217011\n",
      "Score 0.999454961080623\n",
      "x1 x2 x3\n",
      "Residiual sum of squares 0.0016283387958568138\n",
      "Score 0.9992723101823325\n",
      "x1 x2 x4\n",
      "Residiual sum of squares 0.0022451592661334426\n",
      "Score 0.998984864778062\n",
      "x1 x3 x4\n",
      "Residiual sum of squares 0.9656426277351251\n",
      "Score 0.47989993713027534\n",
      "x2 x3 x4\n",
      "Residiual sum of squares 1.4633376298318945\n",
      "Score 0.11699746708126313\n",
      "x1 x2\n",
      "Residiual sum of squares 0.002894054418116864\n",
      "Score 0.9986470333654877\n",
      "x1 x3\n",
      "Residiual sum of squares 0.9589019263112102\n",
      "Score 0.4124852785620212\n",
      "x2 x3\n",
      "Residiual sum of squares 1.1709269593641218\n",
      "Score 0.33311840693884875\n",
      "x1 x4\n",
      "Residiual sum of squares 0.8515689551674057\n",
      "Score 0.5883313677907658\n",
      "x2 x4\n",
      "Residiual sum of squares 1.3088274508279567\n",
      "Score 0.3156657750052335\n",
      "x3 x4\n",
      "Residiual sum of squares 1.8699663349636755\n",
      "Score -0.1000629426553481\n",
      "x1\n",
      "Residiual sum of squares 0.7215074134563162\n",
      "Score 0.5933892921022614\n",
      "x2\n",
      "Residiual sum of squares 1.1691542242897437\n",
      "Score 0.37436670823994855\n",
      "x3\n",
      "Residiual sum of squares 1.782791913904695\n",
      "Score -0.09734815188037005\n",
      "x4\n",
      "Residiual sum of squares 2.527428449793898\n",
      "Score -0.1129239833185649\n"
     ]
    }
   ],
   "source": [
    "for var, sq, sc in rss_score:\n",
    "    print(*var)\n",
    "    print('Residiual sum of squares', sq)\n",
    "    print('Score', sc)"
   ]
  }
 ],
 "metadata": {
  "kernelspec": {
   "display_name": "Python 3",
   "language": "python",
   "name": "python3"
  },
  "language_info": {
   "codemirror_mode": {
    "name": "ipython",
    "version": 3
   },
   "file_extension": ".py",
   "mimetype": "text/x-python",
   "name": "python",
   "nbconvert_exporter": "python",
   "pygments_lexer": "ipython3",
   "version": "3.9.7"
  }
 },
 "nbformat": 4,
 "nbformat_minor": 5
}
