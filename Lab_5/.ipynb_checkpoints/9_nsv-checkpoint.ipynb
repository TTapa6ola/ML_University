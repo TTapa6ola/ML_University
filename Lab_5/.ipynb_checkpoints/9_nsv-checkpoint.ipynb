{
 "cells": [
  {
   "cell_type": "code",
   "execution_count": 1,
   "id": "babb08ab",
   "metadata": {},
   "outputs": [],
   "source": [
    "import numpy as np\n",
    "import pandas as pd\n",
    "from sklearn.linear_model import LinearRegression\n",
    "from sklearn.model_selection import train_test_split\n",
    "from sklearn.svm import SVR\n",
    "from sklearn.tree import DecisionTreeRegressor\n",
    "from sklearn.metrics import mean_squared_error\n",
    "import matplotlib.pyplot as plt\n",
    "%matplotlib inline"
   ]
  },
  {
   "cell_type": "code",
   "execution_count": 7,
   "id": "aaee420e",
   "metadata": {},
   "outputs": [],
   "source": [
    "data = pd.read_csv('nsw74psid1.csv')\n",
    "X, y = data.drop('re78', axis=1), data.re78\n",
    "\n",
    "train_X, test_X, train_y, test_y = train_test_split(X, y, train_size=0.8, random_state=42)"
   ]
  },
  {
   "cell_type": "code",
   "execution_count": 8,
   "id": "6e1575fa",
   "metadata": {},
   "outputs": [],
   "source": [
    "regressions = [\n",
    "    ('Linear regression', LinearRegression()),\n",
    "    ('Decision tree', DecisionTreeRegressor()),\n",
    "    ('SVR', SVR())\n",
    "]"
   ]
  },
  {
   "cell_type": "code",
   "execution_count": 10,
   "id": "dd037406",
   "metadata": {},
   "outputs": [
    {
     "name": "stdout",
     "output_type": "stream",
     "text": [
      "Linear regression\n",
      "Score test:  0.6065627352621804\n",
      "Decision tree\n",
      "Score test:  0.19242296317627994\n",
      "SVR\n",
      "Score test:  0.012802347710630158\n"
     ]
    }
   ],
   "source": [
    "for title, reg in regressions:\n",
    "    print(title)\n",
    "    reg.fit(train_X, train_y)\n",
    "    print('Score test: ', reg.score(test_X, test_y))"
   ]
  }
 ],
 "metadata": {
  "kernelspec": {
   "display_name": "Python 3",
   "language": "python",
   "name": "python3"
  },
  "language_info": {
   "codemirror_mode": {
    "name": "ipython",
    "version": 3
   },
   "file_extension": ".py",
   "mimetype": "text/x-python",
   "name": "python",
   "nbconvert_exporter": "python",
   "pygments_lexer": "ipython3",
   "version": "3.9.7"
  }
 },
 "nbformat": 4,
 "nbformat_minor": 5
}
