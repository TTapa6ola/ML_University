{
 "cells": [
  {
   "cell_type": "markdown",
   "id": "fc8a202e",
   "metadata": {},
   "source": [
    "## Задание\n",
    "\n",
    "2. Сгенерируйте 100 точек с двумя признаками X1 и X2 в соответствии с нормальным\n",
    "распределением так, что одна и вторая часть точек (класс -1 и класс 1) имеют параметры:\n",
    "мат. ожидание X1, мат. ожидание X2, среднеквадратические отклонения для обеих\n",
    "переменных, соответствующие вашему варианту (указан в таблице). Построить\n",
    "диаграммы, иллюстрирующие данные. Построить Байесовский классификатор и оценить\n",
    "качество классификации с помощью различных методов (точность, матрица ошибок, ROС\n",
    "и PR-кривые). Является ли построенный классификатор «хорошим»?"
   ]
  },
  {
   "cell_type": "code",
   "execution_count": 1,
   "id": "dc57648e",
   "metadata": {},
   "outputs": [],
   "source": [
    "import numpy as np\n",
    "import pandas as pd\n",
    "from sklearn import metrics\n",
    "from sklearn.naive_bayes import GaussianNB\n",
    "from sklearn.model_selection import train_test_split\n",
    "import matplotlib.pyplot as plt\n",
    "%matplotlib inline"
   ]
  },
  {
   "cell_type": "code",
   "execution_count": 2,
   "id": "eb287340",
   "metadata": {},
   "outputs": [],
   "source": [
    "# set stats\n",
    "cl0_mean = (11, 13)\n",
    "cl1_mean = (19, 16)\n",
    "cl0_std = 3\n",
    "cl1_std = 2\n",
    "n = 100\n",
    "n1 = 20\n",
    "n2 = 80"
   ]
  },
  {
   "cell_type": "code",
   "execution_count": 3,
   "id": "8b096cb4",
   "metadata": {},
   "outputs": [],
   "source": [
    "# create distribution and dataset\n",
    "dist0_x1 = (cl0_std * np.random.randn(n1) + cl0_mean[0])\n",
    "dist0_x2 = (cl0_std * np.random.randn(n1) + cl0_mean[1])\n",
    "dist1_x1 = (cl1_std * np.random.randn(n2) + cl1_mean[0])\n",
    "dist1_x2 = (cl1_std * np.random.randn(n2) + cl1_mean[1])\n",
    "\n",
    "dist0 = [[dist0_x1[i], dist0_x2[i]] for i in range(n1)]\n",
    "dist1 = [[dist1_x1[i], dist1_x2[i]] for i in range(n2)]\n",
    "\n",
    "X = np.concatenate((dist0, dist1))\n",
    "y = [-1] * n1 + [1] * n2\n",
    "\n",
    "ds = [[X[i], y[i]] for i in range(n)]"
   ]
  },
  {
   "cell_type": "code",
   "execution_count": 4,
   "id": "d0e54834",
   "metadata": {},
   "outputs": [
    {
     "data": {
      "image/png": "[encoded data removed]",
      "text/plain": [
       "<Figure size 432x288 with 1 Axes>"
      ]
     },
     "metadata": {
      "needs_background": "light"
     },
     "output_type": "display_data"
    }
   ],
   "source": [
    "plt.scatter(dist0_x1, dist0_x2, color='red')\n",
    "plt.scatter(dist1_x1, dist1_x2)\n",
    "plt.xlabel('X1')\n",
    "plt.ylabel('X2')\n",
    "plt.title(\"Points distribution\")\n",
    "plt.show()"
   ]
  },
  {
   "cell_type": "code",
   "execution_count": 5,
   "id": "82416f3e",
   "metadata": {},
   "outputs": [],
   "source": [
    "train_X, test_X, train_y, test_y = train_test_split(X, y, train_size=0.8)"
   ]
  },
  {
   "cell_type": "code",
   "execution_count": 6,
   "id": "c00f1846",
   "metadata": {},
   "outputs": [],
   "source": [
    "nb = GaussianNB()\n",
    "nb.fit(train_X, train_y)\n",
    "y_pred = nb.predict(test_X).reshape(-1, 1)"
   ]
  },
  {
   "cell_type": "code",
   "execution_count": 7,
   "id": "f1cfcb2a",
   "metadata": {},
   "outputs": [
    {
     "data": {
      "text/plain": [
       "1.0"
      ]
     },
     "execution_count": 7,
     "metadata": {},
     "output_type": "execute_result"
    }
   ],
   "source": [
    "metrics.accuracy_score(test_y, y_pred)"
   ]
  },
  {
   "cell_type": "code",
   "execution_count": 8,
   "id": "26a83b87",
   "metadata": {},
   "outputs": [
    {
     "data": {
      "text/html": [
       "<div>\n",
       "<style scoped>\n",
       "    .dataframe tbody tr th:only-of-type {\n",
       "        vertical-align: middle;\n",
       "    }\n",
       "\n",
       "    .dataframe tbody tr th {\n",
       "        vertical-align: top;\n",
       "    }\n",
       "\n",
       "    .dataframe thead th {\n",
       "        text-align: right;\n",
       "    }\n",
       "</style>\n",
       "<table border=\"1\" class=\"dataframe\">\n",
       "  <thead>\n",
       "    <tr style=\"text-align: right;\">\n",
       "      <th></th>\n",
       "      <th>0</th>\n",
       "      <th>1</th>\n",
       "    </tr>\n",
       "  </thead>\n",
       "  <tbody>\n",
       "    <tr>\n",
       "      <th>0</th>\n",
       "      <td>4</td>\n",
       "      <td>0</td>\n",
       "    </tr>\n",
       "    <tr>\n",
       "      <th>1</th>\n",
       "      <td>0</td>\n",
       "      <td>16</td>\n",
       "    </tr>\n",
       "  </tbody>\n",
       "</table>\n",
       "</div>"
      ],
      "text/plain": [
       "   0   1\n",
       "0  4   0\n",
       "1  0  16"
      ]
     },
     "execution_count": 8,
     "metadata": {},
     "output_type": "execute_result"
    }
   ],
   "source": [
    "conf_matr = metrics.confusion_matrix(test_y, y_pred)\n",
    "pd.DataFrame(conf_matr)"
   ]
  },
  {
   "cell_type": "code",
   "execution_count": 9,
   "id": "b6f919aa",
   "metadata": {},
   "outputs": [
    {
     "data": {
      "image/png": "[encoded data removed]",
      "text/plain": [
       "<Figure size 432x288 with 1 Axes>"
      ]
     },
     "metadata": {
      "needs_background": "light"
     },
     "output_type": "display_data"
    }
   ],
   "source": [
    "fpr, tpr, tresholds = metrics.roc_curve(test_y, y_pred)\n",
    "area = metrics.auc(fpr, tpr)\n",
    "\n",
    "plt.figure()\n",
    "lw = 2\n",
    "plt.plot(\n",
    "    fpr,\n",
    "    tpr,\n",
    "    color=\"darkorange\",\n",
    "    lw=lw,\n",
    "    label=\"ROC curve (area = %0.2f)\" % area,\n",
    ")\n",
    "plt.plot([0, 1], [0, 1], color=\"navy\", lw=lw, linestyle=\"--\")\n",
    "plt.xlim([0.0, 1.0])\n",
    "plt.ylim([0.0, 1.05])\n",
    "plt.xlabel(\"False Positive Rate\")\n",
    "plt.ylabel(\"True Positive Rate\")\n",
    "plt.title(\"Receiver operating characteristic\")\n",
    "plt.legend(loc=\"lower right\")\n",
    "plt.show()"
   ]
  },
  {
   "cell_type": "code",
   "execution_count": 10,
   "id": "1840daa6",
   "metadata": {},
   "outputs": [
    {
     "data": {
      "image/png": "[encoded data removed]",
      "text/plain": [
       "<Figure size 432x288 with 1 Axes>"
      ]
     },
     "metadata": {
      "needs_background": "light"
     },
     "output_type": "display_data"
    }
   ],
   "source": [
    "precision, recall, _ = metrics.precision_recall_curve(test_y, y_pred)\n",
    "pr_display = metrics.PrecisionRecallDisplay(precision=precision, recall=recall).plot()"
   ]
  }
 ],
 "metadata": {
  "kernelspec": {
   "display_name": "Python 3",
   "language": "python",
   "name": "python3"
  },
  "language_info": {
   "codemirror_mode": {
    "name": "ipython",
    "version": 3
   },
   "file_extension": ".py",
   "mimetype": "text/x-python",
   "name": "python",
   "nbconvert_exporter": "python",
   "pygments_lexer": "ipython3",
   "version": "3.9.7"
  }
 },
 "nbformat": 4,
 "nbformat_minor": 5
}
