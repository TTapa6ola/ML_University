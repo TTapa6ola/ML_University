{
 "cells": [
  {
   "cell_type": "code",
   "execution_count": 8,
   "id": "bfcb87d1",
   "metadata": {},
   "outputs": [],
   "source": [
    "import numpy as np\n",
    "from sklearn.model_selection import train_test_split\n",
    "\n",
    "import torch\n",
    "from torch import nn\n",
    "from torch.nn import functional as F\n",
    "from torch.utils.data import TensorDataset, DataLoader\n",
    "\n",
    "import os\n",
    "from torchvision.datasets import MNIST\n",
    "from torchvision import transforms as tfs\n",
    "\n",
    "from matplotlib import pyplot as plt\n",
    "%matplotlib inline"
   ]
  },
  {
   "cell_type": "code",
   "execution_count": 9,
   "id": "05fb4036",
   "metadata": {},
   "outputs": [
    {
     "name": "stdout",
     "output_type": "stream",
     "text": [
      "Downloading http://yann.lecun.com/exdb/mnist/train-images-idx3-ubyte.gz\n",
      "Downloading http://yann.lecun.com/exdb/mnist/train-images-idx3-ubyte.gz to ./MNIST\\raw\\train-images-idx3-ubyte.gz\n"
     ]
    },
    {
     "data": {
      "application/vnd.jupyter.widget-view+json": {
       "model_id": "46353232ea4b4bf4b6e111f42baff6a4",
       "version_major": 2,
       "version_minor": 0
      },
      "text/plain": [
       "  0%|          | 0/9912422 [00:00<?, ?it/s]"
      ]
     },
     "metadata": {},
     "output_type": "display_data"
    },
    {
     "name": "stdout",
     "output_type": "stream",
     "text": [
      "Extracting ./MNIST\\raw\\train-images-idx3-ubyte.gz to ./MNIST\\raw\n",
      "\n",
      "Downloading http://yann.lecun.com/exdb/mnist/train-labels-idx1-ubyte.gz\n",
      "Downloading http://yann.lecun.com/exdb/mnist/train-labels-idx1-ubyte.gz to ./MNIST\\raw\\train-labels-idx1-ubyte.gz\n"
     ]
    },
    {
     "data": {
      "application/vnd.jupyter.widget-view+json": {
       "model_id": "c94bc524656c47c58264ff01c00d6ddf",
       "version_major": 2,
       "version_minor": 0
      },
      "text/plain": [
       "  0%|          | 0/28881 [00:00<?, ?it/s]"
      ]
     },
     "metadata": {},
     "output_type": "display_data"
    },
    {
     "name": "stdout",
     "output_type": "stream",
     "text": [
      "Extracting ./MNIST\\raw\\train-labels-idx1-ubyte.gz to ./MNIST\\raw\n",
      "\n",
      "Downloading http://yann.lecun.com/exdb/mnist/t10k-images-idx3-ubyte.gz\n",
      "Downloading http://yann.lecun.com/exdb/mnist/t10k-images-idx3-ubyte.gz to ./MNIST\\raw\\t10k-images-idx3-ubyte.gz\n"
     ]
    },
    {
     "data": {
      "application/vnd.jupyter.widget-view+json": {
       "model_id": "8685cd6290ff48f4a730113138458355",
       "version_major": 2,
       "version_minor": 0
      },
      "text/plain": [
       "  0%|          | 0/1648877 [00:00<?, ?it/s]"
      ]
     },
     "metadata": {},
     "output_type": "display_data"
    },
    {
     "name": "stdout",
     "output_type": "stream",
     "text": [
      "Extracting ./MNIST\\raw\\t10k-images-idx3-ubyte.gz to ./MNIST\\raw\n",
      "\n",
      "Downloading http://yann.lecun.com/exdb/mnist/t10k-labels-idx1-ubyte.gz\n",
      "Downloading http://yann.lecun.com/exdb/mnist/t10k-labels-idx1-ubyte.gz to ./MNIST\\raw\\t10k-labels-idx1-ubyte.gz\n"
     ]
    },
    {
     "data": {
      "application/vnd.jupyter.widget-view+json": {
       "model_id": "708c4b2d735b447291462dd8d6676432",
       "version_major": 2,
       "version_minor": 0
      },
      "text/plain": [
       "  0%|          | 0/4542 [00:00<?, ?it/s]"
      ]
     },
     "metadata": {},
     "output_type": "display_data"
    },
    {
     "name": "stdout",
     "output_type": "stream",
     "text": [
      "Extracting ./MNIST\\raw\\t10k-labels-idx1-ubyte.gz to ./MNIST\\raw\n",
      "\n"
     ]
    }
   ],
   "source": [
    "data_tfs = tfs.Compose([\n",
    "    tfs.ToTensor(),\n",
    "    tfs.Normalize((0.5), (0.5))\n",
    "])\n",
    "\n",
    "# install for train and test\n",
    "root = './'\n",
    "train_dataset = MNIST(root, train=True,  transform=data_tfs, download=True)\n",
    "val_dataset  = MNIST(root, train=False, transform=data_tfs, download=True)\n",
    "\n",
    "train_dataloader =  DataLoader(train_dataset, batch_size=128)\n",
    "valid_dataloader =  DataLoader(val_dataset, batch_size=128)"
   ]
  },
  {
   "cell_type": "code",
   "execution_count": 10,
   "id": "481aee14",
   "metadata": {},
   "outputs": [],
   "source": [
    "class Identical(nn.Module):\n",
    "    def forward(self, x):\n",
    "        return x"
   ]
  },
  {
   "cell_type": "code",
   "execution_count": 11,
   "id": "6bf38ae1",
   "metadata": {},
   "outputs": [],
   "source": [
    "activation = Identical()\n",
    "d_in, dim, d_out = 28*28, 128, 10\n",
    "\n",
    "model = nn.Sequential(\n",
    "    nn.Flatten(),\n",
    "    nn.Linear(d_in, dim),\n",
    "    activation,\n",
    "    nn.Linear(dim, dim),\n",
    "    activation,\n",
    "    nn.Linear(dim, d_out),\n",
    ")"
   ]
  },
  {
   "cell_type": "code",
   "execution_count": 12,
   "id": "0e1e8cfd",
   "metadata": {},
   "outputs": [],
   "source": [
    "criterion = nn.CrossEntropyLoss()\n",
    "\n",
    "optimizer = torch.optim.Adam(model.parameters())\n",
    "\n",
    "loaders = {\"train\": train_dataloader, \"valid\": valid_dataloader}"
   ]
  },
  {
   "cell_type": "code",
   "execution_count": 13,
   "id": "e3daf0e6",
   "metadata": {},
   "outputs": [
    {
     "name": "stdout",
     "output_type": "stream",
     "text": [
      "Epoch: 1\n",
      "Loader: train. Accuracy: 0.7729666829109192\n",
      "Loader: valid. Accuracy: 0.7867000102996826\n",
      "Epoch: 2\n",
      "Loader: train. Accuracy: 0.8017833232879639\n",
      "Loader: valid. Accuracy: 0.8044000267982483\n",
      "Epoch: 3\n",
      "Loader: train. Accuracy: 0.8055999875068665\n",
      "Loader: valid. Accuracy: 0.8051999807357788\n",
      "Epoch: 4\n",
      "Loader: train. Accuracy: 0.8079333305358887\n",
      "Loader: valid. Accuracy: 0.8061000108718872\n",
      "Epoch: 5\n",
      "Loader: train. Accuracy: 0.8091833591461182\n",
      "Loader: valid. Accuracy: 0.8065000176429749\n",
      "Epoch: 6\n",
      "Loader: train. Accuracy: 0.810699999332428\n",
      "Loader: valid. Accuracy: 0.8075000047683716\n",
      "Epoch: 7\n",
      "Loader: train. Accuracy: 0.8115166425704956\n",
      "Loader: valid. Accuracy: 0.8072999715805054\n",
      "Epoch: 8\n",
      "Loader: train. Accuracy: 0.812583327293396\n",
      "Loader: valid. Accuracy: 0.8068000078201294\n",
      "Epoch: 9\n",
      "Loader: train. Accuracy: 0.8139500021934509\n",
      "Loader: valid. Accuracy: 0.8077999949455261\n",
      "Epoch: 10\n",
      "Loader: train. Accuracy: 0.8150166869163513\n",
      "Loader: valid. Accuracy: 0.808899998664856\n"
     ]
    }
   ],
   "source": [
    "max_epochs = 10\n",
    "accuracy = {\"train\": [], \"valid\": []}\n",
    "for epoch in range(max_epochs):\n",
    "    for k, dataloader in loaders.items():\n",
    "        epoch_correct = 0\n",
    "        epoch_all = 0\n",
    "        for x_batch, y_batch in dataloader:\n",
    "            if k == \"train\":\n",
    "                model.train()\n",
    "                optimizer.zero_grad()\n",
    "                outp = model(x_batch)\n",
    "                loss = criterion(outp, y_batch)\n",
    "                loss.backward()\n",
    "                optimizer.step()\n",
    "            else:\n",
    "                model.eval()\n",
    "                with torch.no_grad():\n",
    "                    outp = model(x_batch)\n",
    "            preds = outp.argmax(-1)\n",
    "            correct =  preds[preds==y_batch]\n",
    "            all = len(y_batch)\n",
    "            epoch_correct += correct.count_nonzero()\n",
    "            epoch_all += all\n",
    "                \n",
    "        if k == \"train\":\n",
    "            print(f\"Epoch: {epoch+1}\")\n",
    "        print(f\"Loader: {k}. Accuracy: {epoch_correct/epoch_all}\")\n",
    "        accuracy[k].append(epoch_correct/epoch_all)\n"
   ]
  },
  {
   "cell_type": "code",
   "execution_count": 18,
   "id": "9011d77f",
   "metadata": {},
   "outputs": [
    {
     "name": "stdout",
     "output_type": "stream",
     "text": [
      "Epoch: 1\n",
      "Loader: train. Accuracy: 0.788100004196167\n",
      "Loader: valid. Accuracy: 0.822700023651123\n",
      "Epoch: 2\n",
      "Loader: train. Accuracy: 0.8462833166122437\n",
      "Loader: valid. Accuracy: 0.8571000099182129\n",
      "Epoch: 3\n",
      "Loader: train. Accuracy: 0.8624500036239624\n",
      "Loader: valid. Accuracy: 0.8633000254631042\n",
      "Epoch: 4\n",
      "Loader: train. Accuracy: 0.8710500001907349\n",
      "Loader: valid. Accuracy: 0.8669999837875366\n",
      "Epoch: 5\n",
      "Loader: train. Accuracy: 0.8762833476066589\n",
      "Loader: valid. Accuracy: 0.8686000108718872\n",
      "Epoch: 6\n",
      "Loader: train. Accuracy: 0.8799166679382324\n",
      "Loader: valid. Accuracy: 0.8734999895095825\n",
      "Epoch: 7\n",
      "Loader: train. Accuracy: 0.8830666542053223\n",
      "Loader: valid. Accuracy: 0.8734999895095825\n",
      "Epoch: 8\n",
      "Loader: train. Accuracy: 0.8853333592414856\n",
      "Loader: valid. Accuracy: 0.8745999932289124\n",
      "Epoch: 9\n",
      "Loader: train. Accuracy: 0.8866000175476074\n",
      "Loader: valid. Accuracy: 0.8758999705314636\n",
      "Epoch: 10\n",
      "Loader: train. Accuracy: 0.8873000144958496\n",
      "Loader: valid. Accuracy: 0.8762999773025513\n"
     ]
    }
   ],
   "source": [
    "elu_accuracy = test_activation_function(nn.ELU())"
   ]
  },
  {
   "cell_type": "code",
   "execution_count": 15,
   "id": "5120a35b",
   "metadata": {},
   "outputs": [],
   "source": [
    "def test_activation_function(activation):\n",
    "    d_in, dim, d_out = 28*28, 128, 10\n",
    "\n",
    "    model = nn.Sequential(\n",
    "        nn.Flatten(),\n",
    "        nn.Linear(d_in, dim),\n",
    "        activation,\n",
    "        nn.Linear(dim, dim),\n",
    "        activation,\n",
    "        nn.Linear(dim, d_out)\n",
    "    )\n",
    "    \n",
    "    criterion = nn.CrossEntropyLoss()\n",
    "    optimizer = torch.optim.Adam(model.parameters())\n",
    "    loaders = {\"train\": train_dataloader, \"valid\": valid_dataloader}\n",
    "    \n",
    "    max_epochs = 10\n",
    "    accuracy = {\"train\": [], \"valid\": []}\n",
    "    for epoch in range(max_epochs):\n",
    "        for k, dataloader in loaders.items():\n",
    "            epoch_correct = 0\n",
    "            epoch_all = 0\n",
    "            for x_batch, y_batch in dataloader:\n",
    "                if k == \"train\":\n",
    "                    model.train()\n",
    "                    optimizer.zero_grad()\n",
    "                    outp = model(x_batch)\n",
    "                    loss = criterion(outp, y_batch)\n",
    "                    loss.backward()\n",
    "                    optimizer.step()\n",
    "                else:\n",
    "                    model.eval()\n",
    "                    with torch.no_grad():\n",
    "                        outp = model(x_batch)\n",
    "                preds = outp.argmax(-1)\n",
    "                correct =  preds[preds==y_batch]\n",
    "                all = len(y_batch)\n",
    "                epoch_correct += correct.count_nonzero()\n",
    "                epoch_all += all\n",
    "            if k == \"train\":\n",
    "                print(f\"Epoch: {epoch+1}\")\n",
    "            print(f\"Loader: {k}. Accuracy: {epoch_correct/epoch_all}\")\n",
    "            accuracy[k].append(epoch_correct/epoch_all)\n",
    "    return accuracy[\"valid\"]"
   ]
  },
  {
   "cell_type": "code",
   "execution_count": 16,
   "id": "e9012bb5",
   "metadata": {},
   "outputs": [
    {
     "name": "stdout",
     "output_type": "stream",
     "text": [
      "Epoch: 1\n",
      "Loader: train. Accuracy: 0.7717499732971191\n",
      "Loader: valid. Accuracy: 0.7882999777793884\n",
      "Epoch: 2\n",
      "Loader: train. Accuracy: 0.8011999726295471\n",
      "Loader: valid. Accuracy: 0.8041999936103821\n",
      "Epoch: 3\n",
      "Loader: train. Accuracy: 0.8054666519165039\n",
      "Loader: valid. Accuracy: 0.8066999912261963\n",
      "Epoch: 4\n",
      "Loader: train. Accuracy: 0.8077166676521301\n",
      "Loader: valid. Accuracy: 0.807200014591217\n",
      "Epoch: 5\n",
      "Loader: train. Accuracy: 0.8094666600227356\n",
      "Loader: valid. Accuracy: 0.8066999912261963\n",
      "Epoch: 6\n",
      "Loader: train. Accuracy: 0.8108999729156494\n",
      "Loader: valid. Accuracy: 0.8062000274658203\n",
      "Epoch: 7\n",
      "Loader: train. Accuracy: 0.8121333122253418\n",
      "Loader: valid. Accuracy: 0.8070999979972839\n",
      "Epoch: 8\n",
      "Loader: train. Accuracy: 0.8130000233650208\n",
      "Loader: valid. Accuracy: 0.8075000047683716\n",
      "Epoch: 9\n",
      "Loader: train. Accuracy: 0.8141666650772095\n",
      "Loader: valid. Accuracy: 0.8090999722480774\n",
      "Epoch: 10\n",
      "Loader: train. Accuracy: 0.8149166703224182\n",
      "Loader: valid. Accuracy: 0.8098999857902527\n",
      "Epoch: 1\n",
      "Loader: train. Accuracy: 0.7726500034332275\n",
      "Loader: valid. Accuracy: 0.83160001039505\n",
      "Epoch: 2\n",
      "Loader: train. Accuracy: 0.8374833464622498\n",
      "Loader: valid. Accuracy: 0.8535000085830688\n",
      "Epoch: 3\n",
      "Loader: train. Accuracy: 0.8542500138282776\n",
      "Loader: valid. Accuracy: 0.8603000044822693\n",
      "Epoch: 4\n",
      "Loader: train. Accuracy: 0.8640999794006348\n",
      "Loader: valid. Accuracy: 0.8666999936103821\n",
      "Epoch: 5\n",
      "Loader: train. Accuracy: 0.8694666624069214\n",
      "Loader: valid. Accuracy: 0.870199978351593\n",
      "Epoch: 6\n",
      "Loader: train. Accuracy: 0.8750333189964294\n",
      "Loader: valid. Accuracy: 0.871399998664856\n",
      "Epoch: 7\n",
      "Loader: train. Accuracy: 0.8788666725158691\n",
      "Loader: valid. Accuracy: 0.8744999766349792\n",
      "Epoch: 8\n",
      "Loader: train. Accuracy: 0.8819500207901001\n",
      "Loader: valid. Accuracy: 0.8712000250816345\n",
      "Epoch: 9\n",
      "Loader: train. Accuracy: 0.8830166459083557\n",
      "Loader: valid. Accuracy: 0.871399998664856\n",
      "Epoch: 10\n",
      "Loader: train. Accuracy: 0.885366678237915\n",
      "Loader: valid. Accuracy: 0.8726999759674072\n",
      "Epoch: 1\n",
      "Loader: train. Accuracy: 0.7766666412353516\n",
      "Loader: valid. Accuracy: 0.8327000141143799\n",
      "Epoch: 2\n",
      "Loader: train. Accuracy: 0.8401166796684265\n",
      "Loader: valid. Accuracy: 0.8551999926567078\n",
      "Epoch: 3\n",
      "Loader: train. Accuracy: 0.8585666418075562\n",
      "Loader: valid. Accuracy: 0.8659999966621399\n",
      "Epoch: 4\n",
      "Loader: train. Accuracy: 0.8674833178520203\n",
      "Loader: valid. Accuracy: 0.8676000237464905\n",
      "Epoch: 5\n",
      "Loader: train. Accuracy: 0.8734166622161865\n",
      "Loader: valid. Accuracy: 0.8684999942779541\n",
      "Epoch: 6\n",
      "Loader: train. Accuracy: 0.878250002861023\n",
      "Loader: valid. Accuracy: 0.868399977684021\n",
      "Epoch: 7\n",
      "Loader: train. Accuracy: 0.8811666369438171\n",
      "Loader: valid. Accuracy: 0.8668000102043152\n",
      "Epoch: 8\n",
      "Loader: train. Accuracy: 0.8829500079154968\n",
      "Loader: valid. Accuracy: 0.8686000108718872\n",
      "Epoch: 9\n",
      "Loader: train. Accuracy: 0.8848333358764648\n",
      "Loader: valid. Accuracy: 0.869700014591217\n",
      "Epoch: 10\n",
      "Loader: train. Accuracy: 0.8863000273704529\n",
      "Loader: valid. Accuracy: 0.8712999820709229\n"
     ]
    }
   ],
   "source": [
    "plain_accuracy = test_activation_function(Identical())\n",
    "relu_accuracy = test_activation_function(nn.ReLU())\n",
    "leaky_relu_accuracy = test_activation_function(nn.LeakyReLU())"
   ]
  },
  {
   "cell_type": "code",
   "execution_count": 19,
   "id": "80853e8d",
   "metadata": {},
   "outputs": [
    {
     "data": {
      "image/png": "[encoded data removed]",
      "text/plain": [
       "<Figure size 1152x720 with 1 Axes>"
      ]
     },
     "metadata": {
      "needs_background": "light"
     },
     "output_type": "display_data"
    }
   ],
   "source": [
    "plt.figure(figsize=(16, 10))\n",
    "plt.title(\"Valid accuracy\")\n",
    "plt.plot(range(max_epochs), plain_accuracy, label=\"No activation\", linewidth=2)\n",
    "plt.plot(range(max_epochs), relu_accuracy, label=\"ReLU activation\", linewidth=2)\n",
    "plt.plot(range(max_epochs), leaky_relu_accuracy, label=\"LeakyReLU activation\", linewidth=2)\n",
    "plt.plot(range(max_epochs), elu_accuracy, label=\"ELU activation\", linewidth=2)\n",
    "plt.legend()\n",
    "plt.xlabel(\"Epoch\")\n",
    "plt.show()"
   ]
  }
 ],
 "metadata": {
  "kernelspec": {
   "display_name": "Python 3",
   "language": "python",
   "name": "python3"
  },
  "language_info": {
   "codemirror_mode": {
    "name": "ipython",
    "version": 3
   },
   "file_extension": ".py",
   "mimetype": "text/x-python",
   "name": "python",
   "nbconvert_exporter": "python",
   "pygments_lexer": "ipython3",
   "version": "3.9.7"
  }
 },
 "nbformat": 4,
 "nbformat_minor": 5
}
